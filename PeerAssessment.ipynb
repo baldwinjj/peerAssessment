{
 "cells": [
  {
   "cell_type": "code",
   "execution_count": 15,
   "metadata": {},
   "outputs": [],
   "source": [
    "import random\n",
    "import uuid\n",
    "import itertools\n",
    "\n",
    "import networkx as nx\n",
    "from matplotlib import animation, rc\n",
    "import matplotlib.pyplot as plt\n",
    "from networkx.algorithms import bipartite\n",
    "from IPython.display import HTML, Image\n",
    "\n",
    "import numpy as np\n",
    "import pandas as pd\n",
    "from names import get_full_name\n",
    "from coolname import generate_slug\n",
    "\n",
    "%matplotlib inline"
   ]
  },
  {
   "cell_type": "code",
   "execution_count": 16,
   "metadata": {},
   "outputs": [],
   "source": [
    "rc('animation', html='html5')"
   ]
  },
  {
   "cell_type": "markdown",
   "metadata": {},
   "source": [
    "# Peer Assessment\n",
    "\n",
    "The following notebook is part of a study on the design and evaluation of a peer-to-peer assessment method that utilizes an iterative ranking algorithm with a reputation redistribution process. **The hypothesis is that summative peer-to-peer assessment can be accurately evaluated as a function of a student’s produced work and her ability to critically analyze other students’ work within the same subject.**\n",
    "\n",
    "This research draws heavily on studies in other domains. Most notably, a study to improve the accuracy and robustness of online consumer ratings by employing a reputation redistribution process. *Ranking reputation and quality in online rating systems* defines and evaluates a  methodology for improving the accuracy and robustness of online consumer ratings by employing a reputation redistribution process (Liao et al., 2014). The similarities between consumer ratings and peer-to-peer assessment are manifest in the bipartite network which features human raters on one side and objects to be evaluated on the other. Due to these similarities it is hypothesized that the algorithms developed to improve the robustness and accuracy of consumer ratings and academic paper rankings are transferable to peer-to-peer assessment.\n"
   ]
  },
  {
   "cell_type": "markdown",
   "metadata": {},
   "source": [
    "## EPFL Peer Assessment Dataset\n",
    "\n",
    "The Swiss Federal Institute of Technology in Lausanne (EPFL) created a peer assessment dataset in 2013. The data was generated from a social media class consisting of 60 Master's level students and 4 instructors. Each student participant was instructed to hand in a two-page report showing the long-tail effect in the social media platform of that student's choice. The students were then randomly assigned 20 reports to assess and told that \"their peer evaluations would only be taken into account if they did not deviate significantly from the evaluation carried out by the instructors\". Grades were performed on a 5-point Likert scale akin to rating systems used for online consumer ratings: (1) I hate the report, (2) I don't like the report, (3) The report is OK, (4) I like the report, (5) I love the report (Vozniuk et al., 2016).\n",
    "\n",
    "### Dataset Structure\n",
    "\n",
    "The data is normalized into three tsv tables:\n",
    "* grades_instructors_all.tsv - has the grades assigned by instructors\n",
    "* grades_students_all.tsv - has the grades assigned by students\n",
    "* students_reports_mapping - maps student IDs to report IDs\n",
    "\n",
    "There are 60 reports for each student, 1106 student grades, and 240 instructor grades. If students were each assigned 20 reports to peer grade, it is unclear why there are not 1200 student grades.\n",
    "\n",
    "### Dataset limitations\n",
    "\n",
    "This dataset only represents peer assessment on a single assignment in a single class over a single semester at a single University. Not only could this data be subject to factors specific to the setting, there is no longitudinal aspect to this data. Therefore it is impossible to test whether a student's reputation over time has an impact on grading accuracy. Furthermore, the participants are Master's students at a traditional university which means they might not represent the total population of MOOC users. The last significant limitation of the data may be the grading methodology. Research has shown that student assessments fall more closely to that of the instructor if grading criteria is provided for them (Falchikov, & Goldfinch, 2000). The authors of this dataset give no indication that a detailed rubric was provided to students for grading. The literature also shows that anonymity is important in peer assessment because students are hesitant to accurately but negatively assess their friends (Strachan & Wilcox, 1996, Davies, 2000). Although the authors indicate that grades were submitted via an online platform called Graasp, they give no indication whether or not these submissions were anonymous. Despite these limitations, this data helps identify some of the challenges of implementing a peer grading algorithm and is therefore adequate for an early iteration of development."
   ]
  },
  {
   "cell_type": "code",
   "execution_count": 6,
   "metadata": {},
   "outputs": [],
   "source": [
    "instructor_grades = pd.read_csv('./dataset/grades_instructors_all.tsv', sep='\\t')\n",
    "student_grades = pd.read_csv('./dataset/grades_students_all.tsv', sep='\\t')\n",
    "student_reports = pd.read_csv('./dataset/students_reports_mapping.tsv', sep='\\t')"
   ]
  },
  {
   "cell_type": "markdown",
   "metadata": {},
   "source": []
  },
  {
   "cell_type": "markdown",
   "metadata": {},
   "source": [
    "### Anaylsis of Reports\n",
    "\n",
    "`student_reports` contains two columns:\n",
    "* student_id - represents the unique identifier of the student that submitted the report\n",
    "* report_id - represents the unique identifier of the report to be graded\n",
    "\n",
    "The reports represent two-page papers on the long-tail effect of the social media platform of each student's choice. \n",
    "* 60 unique students submitted 60 unique reports \n",
    "* Every student submitted only one report\n",
    "* Each report had only one student submitter"
   ]
  },
  {
   "cell_type": "code",
   "execution_count": 7,
   "metadata": {},
   "outputs": [
    {
     "data": {
      "text/plain": [
       "True"
      ]
     },
     "execution_count": 7,
     "metadata": {},
     "output_type": "execute_result"
    }
   ],
   "source": [
    "student_reports['student_id'].nunique() == student_reports.shape[0]"
   ]
  },
  {
   "cell_type": "code",
   "execution_count": 8,
   "metadata": {},
   "outputs": [
    {
     "data": {
      "text/plain": [
       "True"
      ]
     },
     "execution_count": 8,
     "metadata": {},
     "output_type": "execute_result"
    }
   ],
   "source": [
    "student_reports['report_id'].nunique() == student_reports.shape[0]"
   ]
  },
  {
   "cell_type": "code",
   "execution_count": 9,
   "metadata": {},
   "outputs": [
    {
     "data": {
      "text/plain": [
       "True"
      ]
     },
     "execution_count": 9,
     "metadata": {},
     "output_type": "execute_result"
    }
   ],
   "source": [
    "(student_reports['report_id'].value_counts() == 1).all()"
   ]
  },
  {
   "cell_type": "code",
   "execution_count": 10,
   "metadata": {},
   "outputs": [
    {
     "data": {
      "text/plain": [
       "True"
      ]
     },
     "execution_count": 10,
     "metadata": {},
     "output_type": "execute_result"
    }
   ],
   "source": [
    "(student_reports['student_id'].value_counts() == 1).all()"
   ]
  },
  {
   "cell_type": "markdown",
   "metadata": {},
   "source": [
    "### Analysis of Student Grades\n",
    "\n",
    "`student_grades` contains 3 columns:\n",
    "* student_id - represents the unique identifier of the student that graded the report\n",
    "* report_id - represents the unique identifier of the report that was graded\n",
    "* grade - the grade assigned to the report by the student\n",
    "\n",
    "Grades were assigned on a 5 point Likert scale by 57 students.\n",
    "* Most students, but not all, graded 20 reports\n",
    "* Reports did not receive a uniform number of student grades\n",
    "* Peer grades skew high\n",
    "* The mean peer score was ~3.84\n",
    "* No report received a perfect score from peers\n",
    "* Only 3 reports averaged a score below 3 from peers\n",
    "* Students tend to be positively biased in their grading"
   ]
  },
  {
   "cell_type": "code",
   "execution_count": 41,
   "metadata": {},
   "outputs": [
    {
     "data": {
      "image/png": "[encoded data removed]",
      "text/plain": [
       "<Figure size 432x288 with 1 Axes>"
      ]
     },
     "metadata": {
      "needs_background": "light"
     },
     "output_type": "display_data"
    }
   ],
   "source": [
    "# Most students, but not all, graded 20 reports\n",
    "data = student_grades['student_id'].value_counts().value_counts().sort_index()\n",
    "ax = data.plot(kind='bar', color='coral')\n",
    "ax.set_ylim((0,45))\n",
    "ax.set_ylabel('Number of Student Graders')\n",
    "ax.set_xlabel('Number of Grades Given')\n",
    "ax.set_title('Number of Grades Given Per Student')\n",
    "\n",
    "for p in ax.patches:\n",
    "    ax.annotate(str(p.get_height()), (p.get_width()/3 + p.get_x() * p.get_width() * 2, p.get_height() + 1))"
   ]
  },
  {
   "cell_type": "code",
   "execution_count": 42,
   "metadata": {},
   "outputs": [
    {
     "data": {
      "image/png": "[encoded data removed]",
      "text/plain": [
       "<Figure size 432x288 with 1 Axes>"
      ]
     },
     "metadata": {
      "needs_background": "light"
     },
     "output_type": "display_data"
    }
   ],
   "source": [
    "# Reports did not receive a uniform number of student grades\n",
    "data = student_grades['report_id'].value_counts().value_counts().sort_index()\n",
    "ax = data.plot(kind='bar', color='coral')\n",
    "ax.set_ylim((0,30))\n",
    "ax.set_ylabel('Number of Reports')\n",
    "ax.set_xlabel('Number of Student Graders')\n",
    "ax.set_title('Number of Grades Received per Report')\n",
    "\n",
    "for p in ax.patches:\n",
    "    ax.annotate(str(p.get_height()), (p.get_width()/3 + p.get_x() * p.get_width() * 2, p.get_height() + 1))"
   ]
  },
  {
   "cell_type": "code",
   "execution_count": 73,
   "metadata": {},
   "outputs": [
    {
     "data": {
      "image/png": "[encoded data removed]",
      "text/plain": [
       "<Figure size 432x288 with 1 Axes>"
      ]
     },
     "metadata": {
      "needs_background": "light"
     },
     "output_type": "display_data"
    }
   ],
   "source": [
    "# peer grades skew high\n",
    "data = student_grades['grade'].value_counts().sort_index()\n",
    "ax = data.plot(kind='bar', color='coral')\n",
    "ax.set_ylim((0, 420))\n",
    "ax.set_ylabel('Number of Students Assigned Grades')\n",
    "ax.set_xlabel('Grade Given')\n",
    "ax.set_title('Number of each grade given')\n",
    "\n",
    "for p in ax.patches:\n",
    "    ax.annotate(str(p.get_height()), (p.get_width()/4 + p.get_x() * p.get_width() * 2, p.get_height() + 5))"
   ]
  },
  {
   "cell_type": "code",
   "execution_count": 56,
   "metadata": {},
   "outputs": [
    {
     "name": "stdout",
     "output_type": "stream",
     "text": [
      "Mean: 3.8444359878454306\n"
     ]
    },
    {
     "data": {
      "image/png": "[encoded data removed]",
      "text/plain": [
       "<Figure size 432x288 with 1 Axes>"
      ]
     },
     "metadata": {
      "needs_background": "light"
     },
     "output_type": "display_data"
    }
   ],
   "source": [
    "# The mean peer score was ~3.84\n",
    "# No report received a perfect score from peers\n",
    "# Only 3 reports averaged a score below 3 from peers\n",
    "data = student_grades[['report_id', 'grade']].groupby('report_id').mean()\n",
    "ax = data.plot(kind='bar', color='coral')\n",
    "ax.set_ylabel('Average Peer Grade')\n",
    "ax.set_title('Each Report\\'s Average Peer Grade')\n",
    "ax.xaxis.set_visible(False)\n",
    "\n",
    "print('Mean:', data['grade'].mean())"
   ]
  },
  {
   "cell_type": "code",
   "execution_count": 86,
   "metadata": {},
   "outputs": [
    {
     "name": "stdout",
     "output_type": "stream",
     "text": [
      "Mean: 3.847006448008566\n",
      "Grades < 3: 3\n"
     ]
    },
    {
     "data": {
      "image/png": "[encoded data removed]",
      "text/plain": [
       "<Figure size 432x288 with 1 Axes>"
      ]
     },
     "metadata": {
      "needs_background": "light"
     },
     "output_type": "display_data"
    }
   ],
   "source": [
    "# Students tend to be positively biased in their grading\n",
    "data = student_grades[['student_id', 'grade']].groupby('student_id').mean() #.sort_values('grade')\n",
    "ax = data.plot(kind='bar', color='coral')\n",
    "ax.set_ylabel('Average Grade Assigned')\n",
    "ax.set_title('Each Student\\'s Average Peer Grade')\n",
    "ax.xaxis.set_visible(False)\n",
    "\n",
    "print('Mean:', data['grade'].mean())\n",
    "print('Grades < 3:', data[data['grade'] < 3]['grade'].count())"
   ]
  },
  {
   "cell_type": "markdown",
   "metadata": {},
   "source": [
    "### Analysis of Instructor Grades\n",
    "\n",
    "`instructor_grades` contains 3 columns:\n",
    "* instructor_id - represents the unique identifier of the instructor that graded the report\n",
    "* report_id - represents the unique identifier of the report that was graded\n",
    "* grade - the grade assigned to the report by the instructor\n",
    "\n",
    "Grades were assigned on a 5 point Likert scale by 4 instructors.\n",
    "* All 4 instructors graded all 60 reports\n",
    "* Instructor grades skew high\n",
    "* The mean instructor score was ~3.6\n",
    "* One report received a perfect score from the instructors\n",
    "* Only 9 reports averaged a score below 3 from the instructors"
   ]
  },
  {
   "cell_type": "code",
   "execution_count": 87,
   "metadata": {},
   "outputs": [
    {
     "data": {
      "text/plain": [
       "887     60\n",
       "107     60\n",
       "1033    60\n",
       "5       60\n",
       "Name: instructor_id, dtype: int64"
      ]
     },
     "execution_count": 87,
     "metadata": {},
     "output_type": "execute_result"
    }
   ],
   "source": [
    "# All 4 instructors graded all 60 reports\n",
    "instructor_grades['instructor_id'].value_counts()"
   ]
  },
  {
   "cell_type": "code",
   "execution_count": 88,
   "metadata": {},
   "outputs": [
    {
     "data": {
      "image/png": "[encoded data removed]",
      "text/plain": [
       "<Figure size 432x288 with 1 Axes>"
      ]
     },
     "metadata": {
      "needs_background": "light"
     },
     "output_type": "display_data"
    }
   ],
   "source": [
    "# instructor grades skew high\n",
    "data = instructor_grades['grade'].value_counts().sort_index()\n",
    "ax = data.plot(kind='bar', color='coral')\n",
    "ax.set_ylim((0, 120))\n",
    "ax.set_ylabel('Number of Instructor Assigned Grades')\n",
    "ax.set_xlabel('Grade Given')\n",
    "ax.set_title('Number of Each Grade Given')\n",
    "\n",
    "for p in ax.patches:\n",
    "    ax.annotate(str(p.get_height()), (p.get_width()/4 + p.get_x() * p.get_width() * 2, p.get_height() + 5))"
   ]
  },
  {
   "cell_type": "code",
   "execution_count": 91,
   "metadata": {},
   "outputs": [
    {
     "name": "stdout",
     "output_type": "stream",
     "text": [
      "Mean: 3.6041666666666665\n",
      "Grades < 3: 9\n"
     ]
    },
    {
     "data": {
      "image/png": "[encoded data removed]",
      "text/plain": [
       "<Figure size 432x288 with 1 Axes>"
      ]
     },
     "metadata": {
      "needs_background": "light"
     },
     "output_type": "display_data"
    }
   ],
   "source": [
    "# The mean instructor score was ~3.6\n",
    "# One report received a perfect score from the instructors\n",
    "# Only 9 reports averaged a score below 3 from the instructors\n",
    "data = instructor_grades[['report_id', 'grade']].groupby('report_id').mean()\n",
    "ax = data.plot(kind='bar', color='coral')\n",
    "ax.set_ylim((0, 5))\n",
    "ax.set_ylabel('Average Instructor Grade')\n",
    "ax.set_title('Each Report\\'s Average Instructor Grade')\n",
    "ax.xaxis.set_visible(False)\n",
    "\n",
    "print('Mean:', data['grade'].mean())\n",
    "print('Grades < 3:', data[data['grade'] < 3]['grade'].count())"
   ]
  },
  {
   "cell_type": "code",
   "execution_count": 92,
   "metadata": {},
   "outputs": [
    {
     "name": "stdout",
     "output_type": "stream",
     "text": [
      "Mean: 3.604166666666667\n",
      "Grades < 3: 0\n"
     ]
    },
    {
     "data": {
      "image/png": "[encoded data removed]",
      "text/plain": [
       "<Figure size 432x288 with 1 Axes>"
      ]
     },
     "metadata": {
      "needs_background": "light"
     },
     "output_type": "display_data"
    }
   ],
   "source": [
    "# Instructors tend to be positively biased in their grading\n",
    "data = instructor_grades[['instructor_id', 'grade']].groupby('instructor_id').mean()\n",
    "ax = data.plot(kind='bar', color='coral')\n",
    "ax.set_ylim((0, 5))\n",
    "ax.set_ylabel('Average Grade Assigned')\n",
    "ax.set_title('Each Student\\'s Average Peer Grade')\n",
    "ax.xaxis.set_visible(False)\n",
    "\n",
    "print('Mean:', data['grade'].mean())\n",
    "print('Grades < 3:', data[data['grade'] < 3]['grade'].count())"
   ]
  },
  {
   "cell_type": "markdown",
   "metadata": {},
   "source": [
    "## Synthetic Data\n",
    "\n",
    "To create synthetic data, we create two sets: $U$ and $O$. These represent students and submissions respectively. We assume that each submission $x$ has an intrinsic quality denoted by $Q^\\prime_x$. When a user $i$ gives a rating to a submission $x$, he/she will have some magnitude of rating error $\\delta_{ix}$."
   ]
  },
  {
   "cell_type": "markdown",
   "metadata": {},
   "source": [
    "### Initializing the Data"
   ]
  },
  {
   "cell_type": "code",
   "execution_count": 235,
   "metadata": {},
   "outputs": [],
   "source": [
    "def generate_student_data(num_students):\n",
    "    data = []\n",
    "    for i in range(num_students):\n",
    "        data.append({\n",
    "            'id': uuid.uuid4(),\n",
    "            'name': get_full_name(),\n",
    "            'error': random.uniform(0.1, 0.5),\n",
    "            'reputation': 0\n",
    "        })\n",
    "    df = pd.DataFrame(data)\n",
    "    df.set_index('id', inplace=True)\n",
    "    return df"
   ]
  },
  {
   "cell_type": "code",
   "execution_count": 236,
   "metadata": {},
   "outputs": [],
   "source": [
    "def generate_submission_data(student_df, num_assignments):\n",
    "    data = []\n",
    "    for i in range(num_assignments):\n",
    "        assignment_name = generate_slug(2)\n",
    "        for j in range(student_df.shape[0]):\n",
    "            data.append({\n",
    "                'id': uuid.uuid4(),\n",
    "                'assignment': assignment_name,\n",
    "                'submitter': student_df.index.values[j],\n",
    "                'quality': random.uniform(0,1)\n",
    "            })\n",
    "    df = pd.DataFrame(data)\n",
    "    df.set_index('id', inplace=True)\n",
    "    return df"
   ]
  },
  {
   "cell_type": "code",
   "execution_count": 237,
   "metadata": {},
   "outputs": [],
   "source": [
    "def initialize_data(num_students, num_assignments):\n",
    "    student_df = generate_student_data(num_students)\n",
    "    submission_df = generate_submission_data(student_df, num_assignments)\n",
    "    return (student_df, submission_df)"
   ]
  },
  {
   "cell_type": "code",
   "execution_count": 238,
   "metadata": {},
   "outputs": [],
   "source": [
    "(student_df, submission_df) = initialize_data(10, 2)"
   ]
  },
  {
   "cell_type": "markdown",
   "metadata": {},
   "source": [
    "### Generating Ratings"
   ]
  },
  {
   "cell_type": "code",
   "execution_count": null,
   "metadata": {},
   "outputs": [],
   "source": []
  },
  {
   "cell_type": "markdown",
   "metadata": {},
   "source": [
    "## References\n",
    "\n",
    "1. Falchikov, N., & Goldfinch, J. (2000). Student peer assessment in higher education: A meta-analysis comparing peer and teacher marks. Review of educational research, 70(3), 287-322.\n",
    "1. Liao, H., Zeng, A., Xiao, R., Ren, Z. M., Chen, D. B., & Zhang, Y. C. (2014). Ranking reputation and quality in online rating systems. PloS one, 9(5), e97146.\n",
    "1. Vozniuk, Andrii & Holzer, Adrian & Gillet, Denis. (2016). Peer Assessment Dataset. Journal of Learning Analytics. 3.322-324. 10.18608/jla.2016.32.18."
   ]
  },
  {
   "cell_type": "code",
   "execution_count": null,
   "metadata": {},
   "outputs": [],
   "source": []
  }
 ],
 "metadata": {
  "kernelspec": {
   "display_name": "Python 3",
   "language": "python",
   "name": "python3"
  },
  "language_info": {
   "codemirror_mode": {
    "name": "ipython",
    "version": 3
   },
   "file_extension": ".py",
   "mimetype": "text/x-python",
   "name": "python",
   "nbconvert_exporter": "python",
   "pygments_lexer": "ipython3",
   "version": "3.7.3"
  }
 },
 "nbformat": 4,
 "nbformat_minor": 2
}
